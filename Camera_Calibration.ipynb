{
 "cells": [
  {
   "cell_type": "code",
   "execution_count": 21,
   "id": "e7a8b62e",
   "metadata": {},
   "outputs": [],
   "source": [
    "import numpy as np\n",
    "import cv2 as cv\n",
    "import glob"
   ]
  },
  {
   "cell_type": "code",
   "execution_count": 22,
   "id": "713609d8",
   "metadata": {},
   "outputs": [],
   "source": [
    "chessboardSize = (24,17)\n",
    "frameSize = (1440,1080)"
   ]
  },
  {
   "cell_type": "code",
   "execution_count": 23,
   "id": "c1c60420",
   "metadata": {},
   "outputs": [],
   "source": [
    "criteria = (cv.TERM_CRITERIA_EPS + cv.TERM_CRITERIA_MAX_ITER, 30, 0.001)\n"
   ]
  },
  {
   "cell_type": "code",
   "execution_count": 24,
   "id": "6da39785",
   "metadata": {},
   "outputs": [],
   "source": [
    "objp = np.zeros((chessboardSize[0] * chessboardSize[1], 3), np.float32)\n",
    "objp[:,:2] = np.mgrid[0:chessboardSize[0],0:chessboardSize[1]].T.reshape(-1,2)\n",
    "# size_of_chessboard_squares_mm = 20\n",
    "# objp = objp * size_of_chessboard_squares_mm"
   ]
  },
  {
   "cell_type": "code",
   "execution_count": 25,
   "id": "1a41842c",
   "metadata": {},
   "outputs": [],
   "source": [
    "objpoints = [] # 3d point in real world space\n",
    "imgpoints = [] # 2d points in image plane.\n",
    "#imgpointsR = [] # 2d points in image plane.\n",
    "\n",
    "\n",
    "# imagesLeft = sorted(glob.glob('images/stereoLeft/*.png'))\n",
    "# imagesRight = sorted(glob.glob('images/stereoRight/*.png'))"
   ]
  },
  {
   "cell_type": "code",
   "execution_count": 47,
   "id": "26a9fb97",
   "metadata": {},
   "outputs": [],
   "source": [
    "images=glob.glob('*.png')"
   ]
  },
  {
   "cell_type": "code",
   "execution_count": 48,
   "id": "eaa53450",
   "metadata": {},
   "outputs": [
    {
     "name": "stdout",
     "output_type": "stream",
     "text": [
      "1.png\n",
      "11.png\n",
      "12.png\n",
      "13.png\n",
      "14.png\n",
      "15.png\n",
      "2.png\n",
      "3.png\n",
      "4.png\n",
      "5.png\n",
      "picResult2.png\n",
      "picResult9.png\n"
     ]
    }
   ],
   "source": [
    "for image in images:\n",
    "    print(image)\n",
    "    img=cv.imread(image)\n",
    "    gray = cv.cvtColor(img, cv.COLOR_BGR2GRAY)# convert to gray scale\n",
    "    # Find the chess board corners\n",
    "    ret, corners = cv.findChessboardCorners(gray, chessboardSize, None)\n",
    "    # If found, add object points, image point (after refining them)\n",
    "    if ret == True:\n",
    "\n",
    "        objpoints.append(objp)\n",
    "        corners2 = cv.cornerSubPix(gray, corners, (11,11), (-1,-1), criteria)\n",
    "        imgpoints.append(corners)\n",
    "\n",
    "        # Draw and display the Corners\n",
    "        cv. drawChessboardCorners(img, chessboardSize, corners2, ret)\n",
    "        cv.imshow(\"img\", img)\n",
    "        cv.waitKey(1000)\n",
    "\n",
    "cv.destroyAllWindows()\n",
    "    "
   ]
  },
  {
   "cell_type": "code",
   "execution_count": 49,
   "id": "cea46dee",
   "metadata": {},
   "outputs": [
    {
     "name": "stdout",
     "output_type": "stream",
     "text": [
      "Camera Calibration: 0.7305057659342371\n",
      "\n",
      "Camera Matrix\n",
      " [[2.97985730e+03 0.00000000e+00 7.77703374e+02]\n",
      " [0.00000000e+00 2.97354325e+03 5.23240343e+02]\n",
      " [0.00000000e+00 0.00000000e+00 1.00000000e+00]]\n",
      "\n",
      "Distortion Parameters:\n",
      "  [[ -1.42475885   3.81851365   0.04040333  -0.02745213 -13.17832976]]\n",
      "\n",
      "Rotation Vectors: \n",
      " [array([[-0.03072345],\n",
      "       [ 0.08695877],\n",
      "       [-1.58677047]]), array([[-0.03072345],\n",
      "       [ 0.08695877],\n",
      "       [-1.58677047]]), array([[-0.01600448],\n",
      "       [ 0.0728325 ],\n",
      "       [-1.5950843 ]]), array([[0.04784103],\n",
      "       [0.08862734],\n",
      "       [0.03935033]]), array([[-0.01851699],\n",
      "       [ 0.04084231],\n",
      "       [ 0.02931657]]), array([[-0.03790481],\n",
      "       [ 0.02197888],\n",
      "       [ 0.01004116]]), array([[-0.03072345],\n",
      "       [ 0.08695877],\n",
      "       [-1.58677047]]), array([[-0.01600448],\n",
      "       [ 0.0728325 ],\n",
      "       [-1.5950843 ]]), array([[0.04784103],\n",
      "       [0.08862734],\n",
      "       [0.03935033]]), array([[-0.01851699],\n",
      "       [ 0.04084231],\n",
      "       [ 0.02931657]]), array([[-0.03790481],\n",
      "       [ 0.02197888],\n",
      "       [ 0.01004116]]), array([[ 0.09435828],\n",
      "       [-0.20839476],\n",
      "       [-1.57869422]]), array([[ 0.0943557 ],\n",
      "       [-0.20839471],\n",
      "       [-1.5786943 ]])]\n",
      "\n",
      " Translation Vectors: \n",
      " [array([[-22.38296047],\n",
      "       [ 25.90613284],\n",
      "       [180.23800865]]), array([[-22.38296047],\n",
      "       [ 25.90613284],\n",
      "       [180.23800865]]), array([[ -7.09876846],\n",
      "       [ 30.38314932],\n",
      "       [179.80555065]]), array([[-48.45296264],\n",
      "       [ 14.15276109],\n",
      "       [181.73877479]]), array([[ -9.55745567],\n",
      "       [-24.42945015],\n",
      "       [179.66828461]]), array([[ -5.55316107],\n",
      "       [-11.93588711],\n",
      "       [179.4384101 ]]), array([[-22.38296047],\n",
      "       [ 25.90613284],\n",
      "       [180.23800865]]), array([[ -7.09876846],\n",
      "       [ 30.38314932],\n",
      "       [179.80555065]]), array([[-48.45296264],\n",
      "       [ 14.15276109],\n",
      "       [181.73877479]]), array([[ -9.55745567],\n",
      "       [-24.42945015],\n",
      "       [179.66828461]]), array([[ -5.55316107],\n",
      "       [-11.93588711],\n",
      "       [179.4384101 ]]), array([[-27.08318142],\n",
      "       [ 22.12702334],\n",
      "       [208.23770821]]), array([[-27.08317831],\n",
      "       [ 22.12701752],\n",
      "       [208.23766049]])]\n"
     ]
    }
   ],
   "source": [
    "ret, cameraMatrix, dist, rvecs, tvecs = cv.calibrateCamera(objpoints, imgpoints, frameSize, None, None)\n",
    "\n",
    "print(\"Camera Calibration:\", ret)\n",
    "print(\"\\nCamera Matrix\\n\", cameraMatrix)\n",
    "print(\"\\nDistortion Parameters:\\n \", dist)\n",
    "print(\"\\nRotation Vectors: \\n\", rvecs)\n",
    "print(\"\\n Translation Vectors: \\n\", tvecs)"
   ]
  },
  {
   "cell_type": "code",
   "execution_count": 51,
   "id": "9c94c300",
   "metadata": {},
   "outputs": [],
   "source": [
    "img= cv.imread(\"11.png\")\n",
    "h, w = img.shape[:2]\n",
    "newCameraMatrix, roi= cv.getOptimalNewCameraMatrix(cameraMatrix,dist, (w,h), 1, (w,h) )"
   ]
  },
  {
   "cell_type": "code",
   "execution_count": 52,
   "id": "95fdb8c9",
   "metadata": {},
   "outputs": [
    {
     "data": {
      "text/plain": [
       "True"
      ]
     },
     "execution_count": 52,
     "metadata": {},
     "output_type": "execute_result"
    }
   ],
   "source": [
    "#undistort\n",
    "dst= cv.undistort(img, cameraMatrix, dist, None, newCameraMatrix)\n",
    "#crop the image\n",
    "x,y,w,h= roi\n",
    "dst= dst[ y:y+h, x:x+w]\n",
    "cv.imwrite(\"picResult9.png\", dst)"
   ]
  },
  {
   "cell_type": "code",
   "execution_count": 53,
   "id": "b6d1fd20",
   "metadata": {},
   "outputs": [
    {
     "data": {
      "text/plain": [
       "True"
      ]
     },
     "execution_count": 53,
     "metadata": {},
     "output_type": "execute_result"
    }
   ],
   "source": [
    "#undistort with remapping\n",
    "mapx, mapy= cv.initUndistortRectifyMap(cameraMatrix, dist, None, newCameraMatrix, (w,h), 5)\n",
    "dst= cv.remap(img,mapx,mapy,cv.INTER_LINEAR)\n",
    "\n",
    "#crop the image\n",
    "x,y,w,h =roi\n",
    "dst= dst[y:y+ h, x:x+w]\n",
    "cv.imwrite(\"picResult2.png\", dst)"
   ]
  },
  {
   "cell_type": "code",
   "execution_count": 54,
   "id": "e29ec010",
   "metadata": {},
   "outputs": [
    {
     "name": "stdout",
     "output_type": "stream",
     "text": [
      "\n",
      "total error: 0.024603066748227785\n",
      "\n",
      "\n",
      "\n",
      "\n"
     ]
    }
   ],
   "source": [
    "# Reprojection Error\n",
    "mean_error = 0\n",
    "\n",
    "for i in range(len(objpoints)):\n",
    "    imgPoint2, _ = cv.projectPoints(objpoints[i], rvecs[i], tvecs[i], cameraMatrix, dist)\n",
    "    error= cv.norm(imgpoints[i], imgPoint2, cv.NORM_L2)/len(imgPoint2)\n",
    "    mean_error += error\n",
    "\n",
    "print(\"\\ntotal error: {}\" .format(mean_error/len(objpoints)))\n",
    "print(\"\\n\\n\\n\")"
   ]
  },
  {
   "cell_type": "code",
   "execution_count": null,
   "id": "eb86cf16",
   "metadata": {},
   "outputs": [],
   "source": []
  }
 ],
 "metadata": {
  "kernelspec": {
   "display_name": "Python 3",
   "language": "python",
   "name": "python3"
  },
  "language_info": {
   "codemirror_mode": {
    "name": "ipython",
    "version": 3
   },
   "file_extension": ".py",
   "mimetype": "text/x-python",
   "name": "python",
   "nbconvert_exporter": "python",
   "pygments_lexer": "ipython3",
   "version": "3.7.0"
  }
 },
 "nbformat": 4,
 "nbformat_minor": 5
}
